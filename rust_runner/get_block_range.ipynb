{
 "cells": [
  {
   "cell_type": "code",
   "execution_count": 1,
   "metadata": {},
   "outputs": [
    {
     "name": "stdout",
     "output_type": "stream",
     "text": [
      "True\n",
      "True\n",
      "True\n",
      "True\n"
     ]
    }
   ],
   "source": [
    "from web3 import Web3\n",
    "import random\n",
    "import csv\n",
    "\n",
    "write_file = \"block_range.csv\"\n",
    "\n",
    "w3_group = [Web3(Web3.HTTPProvider('https://mainnet.infura.io/v3/fa120e3911014ea5bb7373c0211dfe2f')), Web3(Web3.HTTPProvider('https://mainnet.infura.io/v3/de8e3f22143c4d279ccf1386ca65c7c1')), Web3(Web3.HTTPProvider('https://mainnet.infura.io/v3/e97df39fcc97483781bcc0661ef88828')), Web3(Web3.HTTPProvider('https://mainnet.infura.io/v3/52b02833766849cb8095c695ba3ea9e3'))]\n",
    "\n",
    "for w3 in w3_group: print(w3.is_connected())"
   ]
  },
  {
   "cell_type": "code",
   "execution_count": 8,
   "metadata": {},
   "outputs": [
    {
     "name": "stdout",
     "output_type": "stream",
     "text": [
      "[8402123, 8402142, 8402251, 8402345, 8402547, 8402584, 8402638, 8402668, 8402951, 8403088, 8403216, 8403232, 8403257, 8403465, 8403644, 8403781, 8403826, 8403910, 8403935, 8403979, 8404024, 8404212, 8404305, 8404308, 8404338, 8404465, 8404563, 8404589, 8404614, 8404622, 8404714, 8404905, 8404914, 8404960, 8404997, 8405164, 8405226, 8405291, 8405294, 8405476, 8405540, 8405611, 8405668, 8405770, 8405861, 8405910, 8405941, 8405970, 8405980, 8406072, 8406108, 8406120, 8406197, 8406230, 8406316, 8406432, 8406588, 8406679, 8406966, 8407042, 8407099, 8407233, 8407310, 8407440, 8407516, 8407570, 8407576, 8407678, 8407682, 8407693, 8407753, 8407857, 8407879, 8407901, 8407944, 8407959, 8408038, 8408129, 8408132, 8408373, 8408385, 8408466, 8408561, 8408651, 8408723, 8408928, 8409025, 8409057, 8409126, 8409138, 8409155, 8409354, 8409560, 8409620, 8409648, 8409742, 8409759, 8409777, 8409943, 8409952]\n"
     ]
    }
   ],
   "source": [
    "length_of_block_range = 100\n",
    "block_list = []\n",
    "\n",
    "for i in range(length_of_block_range):\n",
    "    # block_num = random.randint(18650000, 18768100)\n",
    "    block_num = random.randint(8402000, 8410000)\n",
    "    w3 = w3_group[random.randint(0, len(w3_group) - 1)]\n",
    "    block_list.append((block_num))\n",
    "\n",
    "\n",
    "new_block_list = sorted(block_list)\n",
    "print(new_block_list)\n",
    "\n",
    "with open(write_file, \"w\") as file:\n",
    "    writer = csv.writer(file)\n",
    "    # writer.writerow([\"Block Num\"])\n",
    "    for i in range(len(new_block_list)):\n",
    "        writer.writerow([new_block_list[i]])"
   ]
  },
  {
   "cell_type": "code",
   "execution_count": null,
   "metadata": {},
   "outputs": [],
   "source": []
  }
 ],
 "metadata": {
  "kernelspec": {
   "display_name": "Python 3",
   "language": "python",
   "name": "python3"
  },
  "language_info": {
   "codemirror_mode": {
    "name": "ipython",
    "version": 3
   },
   "file_extension": ".py",
   "mimetype": "text/x-python",
   "name": "python",
   "nbconvert_exporter": "python",
   "pygments_lexer": "ipython3",
   "version": "3.12.1"
  }
 },
 "nbformat": 4,
 "nbformat_minor": 2
}
